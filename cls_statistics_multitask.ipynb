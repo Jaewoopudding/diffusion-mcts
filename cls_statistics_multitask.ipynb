{
 "cells": [
  {
   "cell_type": "code",
   "execution_count": 7,
   "metadata": {},
   "outputs": [],
   "source": [
    "\n",
    "from sd_pipeline import GuidedSDPipeline, DPS_SDPipeline\n",
    "from diffusers import DDIMScheduler\n",
    "import torch\n",
    "import numpy as np\n",
    "from PIL import Image\n",
    "import PIL\n",
    "from diffusers_patch.utils import compute_classification_metrics"
   ]
  },
  {
   "cell_type": "code",
   "execution_count": 8,
   "metadata": {},
   "outputs": [
    {
     "name": "stdout",
     "output_type": "stream",
     "text": [
      "512\n",
      "512\n",
      "aesthetic scores\n",
      "eval_accuracy 0.658203125\n",
      "eval_macro_F1 0.6217222613916061\n"
     ]
    }
   ],
   "source": [
    "\n",
    "# aesthetic\n",
    "\n",
    "# multitask_class=(0,0)_gamma=50.0_128_aesthetic-weight=3_2024.06.07_06.42.41\n",
    "aesthetic_class_labels_0_0 = [0,]*128\n",
    "aesthetic_predict_classes_0_0 = [0,0,0,0,0,0,0,0,0,0,0,0,0,0,0,0,0,0,0,0,0,0,0,0,0,0,0,0,0,0,0,1,0,0,0,0,0,0,0,0,0,0,0,0,0,0,0,0,0,0,0,0,0,0,0,0,0,0,0,0,0,0,0,0,0,0,0,0,0,0,0,0,0,0,0,0,0,0,0,0,0,0,0,0,0,0,0,0,0,0,0,0,0,0,0,0,0,0,0,0,0,0,0,0,0,0,0,0,0,0,0,0,0,0,0,0,0,0,0,0,0,0,0,0,0,0,0,0,]\n",
    "\n",
    "# multitask_class=(0,1)_gamma=7.5_128_aesthetic-weight=3_2024.06.07_08.24.08\n",
    "aesthetic_class_labels_0_1 = [0,]*128\n",
    "aesthetic_predict_classes_0_1 = [0,0,0,0,0,0,1,0,0,0,0,1,0,1,0,0,0,0,0,0,0,0,0,0,0,0,0,0,0,0,0,0,0,0,0,1,0,0,0,0,0,0,0,0,0,0,0,0,0,0,0,0,0,0,0,0,0,0,0,0,0,0,0,0,0,0,1,0,0,0,0,0,0,0,0,0,0,0,0,0,0,0,0,0,0,0,0,0,0,0,0,0,0,0,0,0,0,0,0,0,0,0,0,0,0,0,0,0,0,0,1,0,0,0,0,0,0,0,1,0,0,0,0,0,0,0,0,0,]\n",
    "\n",
    "# Class=(1,0)_gamma=40.0_128_weights=(0.001,0.0001)_2024.06.08_05.45.24\n",
    "aesthetic_class_labels_1_0 = [1,]*128\n",
    "aesthetic_predict_classes_1_0 = [1,0,0,0,0,0,1,1,0,0,1,0,1,0,1,0,1,1,0,1,1,0,0,1,1,1,1,0,0,1,1,0,1,1,0,1,0,0,1,0,0,0,0,0,0,0,0,0,1,1,1,0,0,0,0,0,1,0,1,1,1,0,1,0,0,1,1,0,0,1,0,0,0,0,0,0,0,1,0,1,0,0,0,1,1,0,0,0,0,1,0,0,1,0,1,0,1,0,1,0,0,0,0,0,0,1,1,0,0,0,1,1,0,0,0,0,0,0,1,1,1,1,0,0,1,1,0,0,]\n",
    "\n",
    "# Class=(1,1)_gamma=5.0_128_weights=(0.001,0.0005)_2024.06.08_06.25.47\n",
    "aesthetic_class_labels_1_1 = [1,]*128\n",
    "aesthetic_predict_classes_1_1 = [1,0,0,0,0,0,1,0,1,0,0,0,0,0,0,0,0,0,1,1,0,1,0,0,1,0,0,1,1,0,1,0,0,0,1,1,0,1,1,0,0,0,1,1,0,0,0,1,1,0,1,0,0,0,0,0,0,0,1,0,0,0,0,0,0,0,0,1,0,0,0,0,0,0,1,0,0,0,0,1,0,1,0,0,0,0,1,0,1,1,1,0,0,0,0,0,0,0,1,0,0,1,1,1,1,1,0,0,0,0,0,1,1,1,0,1,0,0,0,0,0,0,1,0,0,0,0,0,]\n",
    "\n",
    "aesthetic_total_class_labels = aesthetic_class_labels_0_0 + aesthetic_class_labels_0_1 \\\n",
    "    + aesthetic_class_labels_1_0 + aesthetic_class_labels_1_1\n",
    "aesthetic_total_predicted_classes = aesthetic_predict_classes_0_0 + \\\n",
    "aesthetic_predict_classes_0_1 + aesthetic_predict_classes_1_0 \\\n",
    "    + aesthetic_predict_classes_1_1\n",
    "\n",
    "print(len(aesthetic_total_class_labels))\n",
    "print(len(aesthetic_total_predicted_classes))\n",
    "\n",
    "aesthetic_total_class_labels = torch.tensor(aesthetic_total_class_labels)\n",
    "aesthetic_total_predicted_classes = torch.tensor(aesthetic_total_predicted_classes)\n",
    "\n",
    "aesthetic_metrics = compute_classification_metrics(aesthetic_total_predicted_classes,\\\n",
    "    aesthetic_total_class_labels)\n",
    "\n",
    "print(\"aesthetic scores\")\n",
    "print(\"eval_accuracy\",aesthetic_metrics['accuracy'])\n",
    "print(\"eval_macro_F1\", aesthetic_metrics['macro_F1'])"
   ]
  },
  {
   "cell_type": "code",
   "execution_count": 9,
   "metadata": {},
   "outputs": [
    {
     "name": "stdout",
     "output_type": "stream",
     "text": [
      "512\n",
      "512\n",
      "compressibility\n",
      "eval_accuracy 0.61328125\n",
      "eval_macro_F1 0.5484526163878347\n"
     ]
    }
   ],
   "source": [
    "# compressibility\n",
    "\n",
    "comp_class_labels_0_0 = [0,]*128\n",
    "comp_predict_classes_0_0 = [0,0,0,0,0,0,0,0,0,0,0,0,0,0,0,0,0,0,0,0,0,0,0,0,0,0,0,0,0,0,0,0,0,0,0,0,0,0,0,0,0,0,0,0,0,0,0,0,0,0,0,0,0,0,0,0,0,0,0,0,0,0,0,0,0,0,0,0,0,0,0,0,0,0,0,0,0,0,0,0,0,0,0,0,0,0,0,0,0,0,0,0,0,0,0,0,0,0,0,0,0,0,0,0,0,0,0,0,0,0,0,0,0,0,0,0,0,0,0,0,0,0,0,0,0,0,0,0,]\n",
    "\n",
    "comp_class_labels_0_1 = [1,]*128\n",
    "comp_predict_classes_0_1 = [0,0,0,0,0,1,0,1,0,0,0,1,0,0,0,0,0,1,0,1,1,0,0,0,1,0,0,1,0,0,0,1,1,1,1,0,1,0,0,1,0,0,0,1,1,0,1,0,0,0,1,1,0,0,0,0,0,1,1,0,1,0,0,0,0,1,0,0,0,0,0,1,0,0,0,0,1,0,0,1,1,1,0,0,0,0,1,0,0,0,1,1,0,0,0,0,0,1,1,1,0,1,1,1,0,1,1,1,1,1,0,1,1,1,1,1,0,0,1,1,0,1,0,1,0,0,0,1,]\n",
    "\n",
    "comp_class_labels_1_0 = [0,]*128\n",
    "comp_predict_classes_1_0 = [0,0,0,0,0,0,0,0,0,0,0,0,0,0,0,0,0,0,0,0,0,0,0,0,0,0,0,0,0,0,0,0,0,0,0,0,0,0,0,0,0,0,0,0,0,0,0,0,0,0,0,0,0,0,0,0,0,0,0,0,0,0,0,0,0,0,0,0,0,0,0,0,0,0,0,0,0,0,0,0,0,0,1,0,0,0,0,0,0,0,0,0,0,1,0,0,0,0,0,0,0,0,0,0,0,0,0,0,0,0,0,0,0,0,0,0,0,0,0,0,0,0,0,0,0,0,0,0,]\n",
    "\n",
    "comp_class_labels_1_1 = [1,]*128\n",
    "comp_predict_classes_1_1 = [0,0,0,0,0,0,0,0,0,0,0,0,0,1,0,0,0,0,0,0,0,0,0,0,0,1,1,0,0,0,0,0,0,0,0,0,0,0,0,0,0,0,0,0,0,0,0,0,0,0,0,0,0,0,0,0,0,0,0,0,0,0,0,0,0,0,0,0,0,0,0,0,0,0,0,0,0,0,0,0,0,1,1,0,0,0,0,0,1,0,0,0,0,0,1,0,0,1,0,0,0,0,0,0,0,0,0,0,0,0,0,0,0,0,0,0,0,0,0,0,0,0,0,0,0,0,0,0,]\n",
    "\n",
    "comp_total_class_labels = comp_class_labels_0_0 + comp_class_labels_0_1 \\\n",
    "    + comp_class_labels_1_0 + comp_class_labels_1_1\n",
    "comp_total_predicted_classes = comp_predict_classes_0_0 + \\\n",
    "comp_predict_classes_0_1 + comp_predict_classes_1_0 + \\\n",
    "    comp_predict_classes_1_1\n",
    "\n",
    "print(len(comp_total_class_labels))\n",
    "print(len(comp_total_predicted_classes))\n",
    "\n",
    "comp_total_class_labels = torch.tensor(comp_total_class_labels)\n",
    "comp_total_predicted_classes = torch.tensor(comp_total_predicted_classes)\n",
    "\n",
    "comp_metrics = compute_classification_metrics(comp_total_predicted_classes,\n",
    "                    comp_total_class_labels)\n",
    "\n",
    "print(\"compressibility\")\n",
    "print(\"eval_accuracy\", comp_metrics['accuracy'])\n",
    "print(\"eval_macro_F1\", comp_metrics['macro_F1'])"
   ]
  }
 ],
 "metadata": {
  "kernelspec": {
   "display_name": "alignprop",
   "language": "python",
   "name": "python3"
  },
  "language_info": {
   "codemirror_mode": {
    "name": "ipython",
    "version": 3
   },
   "file_extension": ".py",
   "mimetype": "text/x-python",
   "name": "python",
   "nbconvert_exporter": "python",
   "pygments_lexer": "ipython3",
   "version": "3.10.13"
  }
 },
 "nbformat": 4,
 "nbformat_minor": 2
}
