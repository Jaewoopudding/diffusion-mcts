{
 "cells": [
  {
   "cell_type": "code",
   "execution_count": 78,
   "metadata": {},
   "outputs": [],
   "source": [
    "\n",
    "from sd_pipeline import GuidedSDPipeline, DPS_SDPipeline\n",
    "from diffusers import DDIMScheduler\n",
    "import torch\n",
    "import numpy as np\n",
    "from PIL import Image\n",
    "import PIL\n",
    "from diffusers_patch.utils import compute_classification_metrics"
   ]
  },
  {
   "cell_type": "code",
   "execution_count": 79,
   "metadata": {},
   "outputs": [
    {
     "name": "stdout",
     "output_type": "stream",
     "text": [
      "512\n",
      "512\n",
      "eval_accuracy 0.44921875\n",
      "eval_macro_F1 0.44623519531818256\n"
     ]
    }
   ],
   "source": [
    "class_labels_0 = [0,]*128\n",
    "predict_classes_0 = [0,0,0,0,0,0,0,2,0,0,2,1,1,2,0,0,0,0,1,0,0,0,0,0,0,2,2,0,0,0,0,0,0,1,0,0,0,0,0,1,1,0,0,0,0,0,0,0,0,0,0,0,0,0,2,2,0,0,0,0,0,0,0,1,0,0,1,2,0,0,0,0,1,2,0,1,0,1,1,0,0,2,3,0,0,0,0,0,2,0,0,0,0,0,0,0,0,1,1,0,0,0,1,0,2,0,0,2,0,0,2,1,0,2,1,1,0,1,0,2,0,0,2,0,2,1,2,0,]\n",
    "\n",
    "class_labels_1 = [1,]*128\n",
    "predict_classes_1 = [0,0,0,1,1,1,0,1,0,1,0,0,2,1,0,1,0,1,1,0,1,1,1,2,1,2,2,0,0,1,0,0,1,1,2,1,0,0,0,0,1,2,0,1,1,1,0,0,0,0,0,0,0,1,0,3,0,2,1,1,0,1,0,1,1,0,2,0,1,0,0,0,1,2,1,1,0,1,0,2,1,2,1,0,1,1,0,1,2,0,0,1,0,1,0,1,0,1,0,2,1,0,1,0,1,0,1,2,1,0,1,1,1,0,0,1,0,1,0,1,0,1,2,1,2,1,1,1,]\n",
    "\n",
    "class_labels_2 = [2,]*128\n",
    "predict_classes_2 = [1,0,0,0,1,0,1,0,0,2,1,2,2,1,0,1,0,1,1,0,0,1,0,0,0,2,2,0,1,1,0,0,0,1,2,1,0,0,0,2,1,1,0,0,1,0,0,0,0,0,0,0,0,1,0,2,0,1,1,1,0,1,0,1,0,0,1,1,1,2,0,1,1,1,2,1,0,1,1,2,1,2,2,1,1,0,0,1,1,0,0,1,0,0,1,1,1,0,2,1,0,1,0,0,2,0,2,0,1,0,2,0,1,1,0,1,0,1,0,1,0,1,1,1,1,1,0,1,]\n",
    "\n",
    "class_labels_3 = [3,]*128\n",
    "predict_classes_3 = [3,0,2,0,2,3,3,2,3,3,3,2,2,3,3,3,3,0,2,3,0,2,3,3,2,3,2,3,3,3,2,3,3,2,3,3,0,3,3,0,2,2,3,3,0,3,2,3,2,0,2,1,2,2,2,2,2,0,0,2,2,2,3,3,3,0,3,3,1,3,3,3,3,0,3,1,3,3,3,2,3,3,2,3,3,3,0,2,3,1,3,3,0,3,3,2,2,3,2,0,0,0,3,0,3,3,3,2,3,3,3,3,0,3,2,2,0,2,2,3,3,3,3,3,3,2,3,3,]\n",
    "\n",
    "total_class_labels = class_labels_0 + class_labels_1 + class_labels_2 + class_labels_3\n",
    "total_predicted_classes = predict_classes_0 + predict_classes_1 + predict_classes_2 + predict_classes_3\n",
    "\n",
    "print(len(total_class_labels))\n",
    "print(len(total_predicted_classes))\n",
    "\n",
    "total_class_labels = torch.tensor(total_class_labels)\n",
    "total_predicted_classes = torch.tensor(total_predicted_classes)\n",
    "\n",
    "metrics = compute_classification_metrics(total_predicted_classes, total_class_labels)\n",
    "\n",
    "print(\"eval_accuracy\",metrics['accuracy'])\n",
    "print(\"eval_macro_F1\", metrics['macro_F1'])"
   ]
  },
  {
   "cell_type": "code",
   "execution_count": 80,
   "metadata": {},
   "outputs": [
    {
     "name": "stderr",
     "output_type": "stream",
     "text": [
      "/tmp/ipykernel_3718728/489107288.py:4: MatplotlibDeprecationWarning: Auto-close()ing of figures upon backend switching is deprecated since 3.8 and will be removed two minor releases later.  To suppress this warning, explicitly call plt.close('all') first.\n",
      "  matplotlib.use('Agg')\n"
     ]
    }
   ],
   "source": [
    "%matplotlib inline\n",
    "import matplotlib\n",
    "import matplotlib.pyplot as plt\n",
    "matplotlib.use('Agg')\n",
    "\n",
    "from sklearn.metrics import confusion_matrix\n",
    "import seaborn as sns  # For a nicer confusion matrix visualization\n",
    "\n",
    "sns.set()\n",
    "sns.set_context(\"paper\")\n",
    "sns.set_palette(\"colorblind\")\n",
    "# sns.set_palette(\"colorblind\")\n",
    "# sns.set(font_scale=2)\n",
    "\n",
    "custom_style = {\n",
    "    'axes.facecolor': 'white',  # Custom grey background\n",
    "    'axes.edgecolor': 'black',      # Black edges\n",
    "    'axes.grid': True,             # No grid (you can turn this on if you want grid)\n",
    "    'figure.facecolor': 'white'     # White figure background\n",
    "}\n",
    "\n",
    "# Set the style\n",
    "sns.set_style('whitegrid', rc=custom_style)\n",
    "\n",
    "# Compute the confusion matrix\n",
    "cm = confusion_matrix(total_class_labels, total_predicted_classes)\n",
    "\n",
    "plt.figure(figsize=(9, 6))\n",
    "sns.heatmap(cm, annot=True, fmt='d', cmap='Blues', \n",
    "            xticklabels=['Class 0', 'Class 1', 'Class 2', 'Class 3'], \n",
    "            yticklabels=['Class 0', 'Class 1', 'Class 2', 'Class 3'],\n",
    "            annot_kws={\"size\": 22})\n",
    "\n",
    "plt.xticks(fontsize=15)\n",
    "plt.yticks(fontsize=15)\n",
    "\n",
    "plt.title('Confusion Matrix', fontsize=19)\n",
    "plt.xlabel('Generated samples', fontsize=18)\n",
    "plt.ylabel('Conditioning class (y)', fontsize=18)\n",
    "\n",
    "plt.tight_layout(rect=[0, 0, 0.98, 0.98])\n",
    "\n",
    "plt.savefig('./confusion_matrix.png', dpi=256)\n",
    "# plt.show()"
   ]
  }
 ],
 "metadata": {
  "kernelspec": {
   "display_name": "alignprop",
   "language": "python",
   "name": "python3"
  },
  "language_info": {
   "codemirror_mode": {
    "name": "ipython",
    "version": 3
   },
   "file_extension": ".py",
   "mimetype": "text/x-python",
   "name": "python",
   "nbconvert_exporter": "python",
   "pygments_lexer": "ipython3",
   "version": "3.10.13"
  }
 },
 "nbformat": 4,
 "nbformat_minor": 2
}
